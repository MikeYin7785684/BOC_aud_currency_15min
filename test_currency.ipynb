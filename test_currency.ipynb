{
 "cells": [
  {
   "cell_type": "code",
   "execution_count": 13,
   "metadata": {},
   "outputs": [
    {
     "data": {
      "text/plain": [
       "478.18"
      ]
     },
     "execution_count": 13,
     "metadata": {},
     "output_type": "execute_result"
    }
   ],
   "source": [
    "import requests\n",
    "from bs4 import BeautifulSoup\n",
    "import re\n",
    " \n",
    "\n",
    "url = 'https://www.boc.cn/sourcedb/whpj/'\n",
    "response = requests.get(url)\n",
    "response.encoding='utf-8'\n",
    "html_content = response.text\n",
    "soup=BeautifulSoup(html_content,'html.parser')\n",
    "currency=soup.find('td',string='澳大利亚元')\n",
    "currency_au_now=currency.find_parent('tr').contents[7].getText()\n",
    "float(currency_au_now)\n",
    "\n"
   ]
  }
 ],
 "metadata": {
  "kernelspec": {
   "display_name": "base",
   "language": "python",
   "name": "python3"
  },
  "language_info": {
   "codemirror_mode": {
    "name": "ipython",
    "version": 3
   },
   "file_extension": ".py",
   "mimetype": "text/x-python",
   "name": "python",
   "nbconvert_exporter": "python",
   "pygments_lexer": "ipython3",
   "version": "3.11.4"
  }
 },
 "nbformat": 4,
 "nbformat_minor": 2
}
